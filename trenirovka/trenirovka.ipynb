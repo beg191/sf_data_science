{
 "cells": [
  {
   "cell_type": "code",
   "execution_count": 142,
   "metadata": {},
   "outputs": [],
   "source": [
    "import numpy as np\n"
   ]
  },
  {
   "cell_type": "code",
   "execution_count": 143,
   "metadata": {},
   "outputs": [],
   "source": [
    "def get_loto(num):\n",
    "    array = np.random.randint(1,101,size=(num, 5, 5))\n",
    "    return array"
   ]
  },
  {
   "cell_type": "code",
   "execution_count": 144,
   "metadata": {},
   "outputs": [
    {
     "data": {
      "text/plain": [
       "array([[[26,  5, 41, 74, 73],\n",
       "        [39, 43, 36, 46,  8],\n",
       "        [91, 15, 83, 33, 69],\n",
       "        [17, 41, 76, 69, 57],\n",
       "        [57, 75, 62, 14, 74]],\n",
       "\n",
       "       [[25, 91, 98, 78, 40],\n",
       "        [78,  5, 58, 32, 60],\n",
       "        [88, 87, 98, 79, 69],\n",
       "        [29, 28, 32, 83,  5],\n",
       "        [22, 57, 22, 70, 35]],\n",
       "\n",
       "       [[77, 43, 66, 74, 26],\n",
       "        [11,  2, 65, 71,  9],\n",
       "        [ 5, 34, 54, 68, 91],\n",
       "        [36, 43, 61, 97, 18],\n",
       "        [18, 35, 28, 39, 21]]])"
      ]
     },
     "execution_count": 144,
     "metadata": {},
     "output_type": "execute_result"
    }
   ],
   "source": [
    "get_loto(3)"
   ]
  },
  {
   "cell_type": "code",
   "execution_count": 145,
   "metadata": {},
   "outputs": [],
   "source": [
    "def get_unique_loto(num):\n",
    "    list_res = list()\n",
    "    for n in range(num):\n",
    "        list_res.append(np.random.choice(np.arange(1,101), size=(5,5), replace=False))\n",
    "    return np.array(list_res)\n",
    "\n"
   ]
  },
  {
   "cell_type": "code",
   "execution_count": 146,
   "metadata": {},
   "outputs": [
    {
     "data": {
      "text/plain": [
       "array([[[73, 88, 85, 72, 24],\n",
       "        [87, 52, 28, 44, 17],\n",
       "        [91, 16, 69, 23, 77],\n",
       "        [57, 38, 65, 27, 61],\n",
       "        [13, 29, 76,  7, 64]],\n",
       "\n",
       "       [[ 4, 73,  1, 66, 16],\n",
       "        [18, 99, 14, 98, 10],\n",
       "        [58, 47, 42, 79,  3],\n",
       "        [69, 15, 74, 60, 21],\n",
       "        [65, 72, 33, 13, 39]],\n",
       "\n",
       "       [[32, 27, 95, 73,  9],\n",
       "        [54, 20, 67, 36, 91],\n",
       "        [33,  1, 44, 24, 74],\n",
       "        [ 4,  2, 42, 93, 82],\n",
       "        [99, 35, 25, 22, 61]]])"
      ]
     },
     "execution_count": 146,
     "metadata": {},
     "output_type": "execute_result"
    }
   ],
   "source": [
    "get_unique_loto(3)"
   ]
  }
 ],
 "metadata": {
  "interpreter": {
   "hash": "ac59ebe37160ed0dfa835113d9b8498d9f09ceb179beaac4002f036b9467c963"
  },
  "kernelspec": {
   "display_name": "Python 3.9.10 64-bit",
   "language": "python",
   "name": "python3"
  },
  "language_info": {
   "codemirror_mode": {
    "name": "ipython",
    "version": 3
   },
   "file_extension": ".py",
   "mimetype": "text/x-python",
   "name": "python",
   "nbconvert_exporter": "python",
   "pygments_lexer": "ipython3",
   "version": "3.9.10"
  },
  "orig_nbformat": 4
 },
 "nbformat": 4,
 "nbformat_minor": 2
}
