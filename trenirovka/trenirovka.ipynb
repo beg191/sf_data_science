{
 "cells": [
  {
   "cell_type": "code",
   "execution_count": 127,
   "metadata": {},
   "outputs": [],
   "source": [
    "import numpy as np\n"
   ]
  },
  {
   "cell_type": "code",
   "execution_count": 128,
   "metadata": {},
   "outputs": [],
   "source": [
    "def get_loto(num):\n",
    "    array = np.random.randint(1,101,size=(num, 5, 5))\n",
    "    return array"
   ]
  },
  {
   "cell_type": "code",
   "execution_count": 129,
   "metadata": {},
   "outputs": [
    {
     "data": {
      "text/plain": [
       "array([[[ 37,  33,  47,  80,  17],\n",
       "        [ 12,  25,  29,   2,  99],\n",
       "        [100,  63,  30,  53,  93],\n",
       "        [ 30,   3,   6,  36,  80],\n",
       "        [ 47,  13,  71,  86,  48]],\n",
       "\n",
       "       [[ 27,  51,  70,  63,  33],\n",
       "        [ 62,  73,  64,  22,  67],\n",
       "        [ 76,  11,  96,  98,  85],\n",
       "        [ 57,  50,  82,  33,  36],\n",
       "        [ 96,  48,  87,  90,  41]],\n",
       "\n",
       "       [[ 46,  71,  54,  18,  35],\n",
       "        [ 76,  58,   7,  73,  30],\n",
       "        [ 45,  98,  72,  89,  15],\n",
       "        [ 86,  95,  34,  44,  22],\n",
       "        [ 19,  34,  85,  39,  23]]])"
      ]
     },
     "execution_count": 129,
     "metadata": {},
     "output_type": "execute_result"
    }
   ],
   "source": [
    "get_loto(3)"
   ]
  },
  {
   "cell_type": "code",
   "execution_count": 130,
   "metadata": {},
   "outputs": [],
   "source": [
    "def get_unique_loto(num):\n",
    "    return np.random.choice(np.arange(1,101), size=(num,5,5), replace=False)\n",
    "\n"
   ]
  },
  {
   "cell_type": "code",
   "execution_count": 131,
   "metadata": {},
   "outputs": [
    {
     "data": {
      "text/plain": [
       "array([[[87, 41, 53, 32, 68],\n",
       "        [42, 96, 57, 54, 21],\n",
       "        [ 5, 65,  1, 80, 20],\n",
       "        [49, 79, 13, 75, 39],\n",
       "        [ 7, 29, 86,  9, 92]],\n",
       "\n",
       "       [[81, 35, 74, 60,  6],\n",
       "        [47, 91, 84, 37, 34],\n",
       "        [36, 51, 17, 56, 26],\n",
       "        [64, 23, 43, 66, 95],\n",
       "        [76, 97, 14, 24, 90]],\n",
       "\n",
       "       [[63, 50, 93, 55, 58],\n",
       "        [11, 85, 28, 72, 94],\n",
       "        [16, 27, 10, 44, 31],\n",
       "        [71, 99, 22, 12, 78],\n",
       "        [70, 67,  8, 73, 46]]])"
      ]
     },
     "execution_count": 131,
     "metadata": {},
     "output_type": "execute_result"
    }
   ],
   "source": [
    "get_unique_loto(3)"
   ]
  }
 ],
 "metadata": {
  "interpreter": {
   "hash": "ac59ebe37160ed0dfa835113d9b8498d9f09ceb179beaac4002f036b9467c963"
  },
  "kernelspec": {
   "display_name": "Python 3.9.10 64-bit",
   "language": "python",
   "name": "python3"
  },
  "language_info": {
   "codemirror_mode": {
    "name": "ipython",
    "version": 3
   },
   "file_extension": ".py",
   "mimetype": "text/x-python",
   "name": "python",
   "nbconvert_exporter": "python",
   "pygments_lexer": "ipython3",
   "version": "3.9.10"
  },
  "orig_nbformat": 4
 },
 "nbformat": 4,
 "nbformat_minor": 2
}
