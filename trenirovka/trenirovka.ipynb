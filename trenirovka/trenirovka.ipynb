def get_chess(a):
    ar_chess = np.zeros([a,a])
    ar_chess[0:a:2, 1:a:2] = 1
    ar_chess[1:a:2, 0:a:2] = 1
    return ar_chess

import numpy as np

print(get_chess(1),"\n")
# array([[0.]])


print(get_chess(4))
# array([[0., 1., 0., 1.],
#        [1., 0., 1., 0.],
#        [0., 1., 0., 1.],
#        [1., 0., 1., 0.]])