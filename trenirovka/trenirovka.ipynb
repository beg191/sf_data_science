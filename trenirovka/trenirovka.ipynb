{
 "cells": [
  {
   "cell_type": "code",
   "execution_count": 1,
   "metadata": {},
   "outputs": [],
   "source": [
    "import numpy as np\n"
   ]
  },
  {
   "cell_type": "code",
   "execution_count": 2,
   "metadata": {},
   "outputs": [],
   "source": [
    "def get_loto(num):\n",
    "    array = np.random.randint(1,101,size=(num, 5, 5))\n",
    "    return array"
   ]
  },
  {
   "cell_type": "code",
   "execution_count": 3,
   "metadata": {},
   "outputs": [
    {
     "data": {
      "text/plain": [
       "array([[[ 6, 67, 83, 97, 17],\n",
       "        [64, 13, 59, 44, 20],\n",
       "        [24, 85, 83, 34, 68],\n",
       "        [95,  5, 37, 16, 46],\n",
       "        [97, 15, 86, 43, 72]],\n",
       "\n",
       "       [[68, 84, 75, 46, 66],\n",
       "        [76, 46, 28, 98, 62],\n",
       "        [43, 17, 55, 31, 76],\n",
       "        [46, 91, 31, 64, 71],\n",
       "        [ 8, 93, 40, 91, 43]],\n",
       "\n",
       "       [[71, 30, 97, 90, 72],\n",
       "        [66, 41, 44, 58,  5],\n",
       "        [23, 77, 68, 34, 26],\n",
       "        [87, 96,  5, 21, 64],\n",
       "        [34, 65, 37, 36, 60]]])"
      ]
     },
     "execution_count": 3,
     "metadata": {},
     "output_type": "execute_result"
    }
   ],
   "source": [
    "get_loto(3)"
   ]
  },
  {
   "cell_type": "code",
   "execution_count": 4,
   "metadata": {},
   "outputs": [],
   "source": [
    "def get_unique_loto(num):\n",
    "    list_res = list()\n",
    "    for n in range(num):\n",
    "        list_res.append(np.random.choice(np.arange(1,101), size=(5,5), replace=False))\n",
    "    return np.array(list_res)\n",
    "\n"
   ]
  },
  {
   "cell_type": "code",
   "execution_count": 5,
   "metadata": {},
   "outputs": [
    {
     "data": {
      "text/plain": [
       "array([[[ 76,  64,  58,  94,   1],\n",
       "        [ 83,  96,  13,  51,  34],\n",
       "        [ 43,  54,  21,  73,  72],\n",
       "        [ 35,  44,  15,  24,  50],\n",
       "        [ 90,  91,  10,  87,  67]],\n",
       "\n",
       "       [[ 18,  37,  55,  65,  71],\n",
       "        [ 33,  10,  42,  41,  15],\n",
       "        [  9,  86,  60,  20,  48],\n",
       "        [ 34,  49,  82,  35,  61],\n",
       "        [ 27,  11,  59,  14,   1]],\n",
       "\n",
       "       [[ 15,  79,  39,  94,  13],\n",
       "        [ 56,   1,  75,  49,  98],\n",
       "        [ 54,  31,  92,  85,  18],\n",
       "        [100,  70,  93,  24,  81],\n",
       "        [ 76,   2,  99,  59,   3]]])"
      ]
     },
     "execution_count": 5,
     "metadata": {},
     "output_type": "execute_result"
    }
   ],
   "source": [
    "get_unique_loto(3)"
   ]
  },
  {
   "cell_type": "code",
   "execution_count": 6,
   "metadata": {},
   "outputs": [
    {
     "data": {
      "text/plain": [
       "261.5"
      ]
     },
     "execution_count": 6,
     "metadata": {},
     "output_type": "execute_result"
    }
   ],
   "source": [
    "simplelist = [19, 242, 14, 152, 142, 1000]\n",
    "np.mean(simplelist)"
   ]
  }
 ],
 "metadata": {
  "interpreter": {
   "hash": "ac59ebe37160ed0dfa835113d9b8498d9f09ceb179beaac4002f036b9467c963"
  },
  "kernelspec": {
   "display_name": "Python 3.9.10 64-bit",
   "language": "python",
   "name": "python3"
  },
  "language_info": {
   "codemirror_mode": {
    "name": "ipython",
    "version": 3
   },
   "file_extension": ".py",
   "mimetype": "text/x-python",
   "name": "python",
   "nbconvert_exporter": "python",
   "pygments_lexer": "ipython3",
   "version": "3.9.10"
  },
  "orig_nbformat": 4
 },
 "nbformat": 4,
 "nbformat_minor": 2
}
