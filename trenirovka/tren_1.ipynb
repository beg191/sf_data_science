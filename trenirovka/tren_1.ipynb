{
 "cells": [
  {
   "cell_type": "code",
   "execution_count": 25,
   "metadata": {},
   "outputs": [],
   "source": [
    "from collections import Counter"
   ]
  },
  {
   "cell_type": "code",
   "execution_count": 26,
   "metadata": {},
   "outputs": [
    {
     "name": "stdout",
     "output_type": "stream",
     "text": [
      "Counter({'red': 3, 'black': 3, 'blue': 2, 'wwhite': 1})\n",
      "3\n",
      "0\n",
      "dict_values([3, 2, 3, 1])\n",
      "9\n"
     ]
    }
   ],
   "source": [
    "cars = ['red', 'blue', 'black', 'black', 'black', 'red', 'blue', 'red', 'wwhite']\n",
    "c = Counter(cars)\n",
    "\n",
    "print(c)\n",
    "print(c['black'])\n",
    "print(c['purple'])\n",
    "print(c.values())\n",
    "print(sum(c.values()))"
   ]
  },
  {
   "cell_type": "code",
   "execution_count": 27,
   "metadata": {},
   "outputs": [],
   "source": [
    "cars_moscow = ['black', 'black', 'white', 'black', 'black', 'white', 'yellow', 'yellow', 'yellow']\n",
    "cars_spb = ['red', 'black', 'black', 'white', 'white', 'yellow', 'yellow', 'red', 'white']"
   ]
  },
  {
   "cell_type": "code",
   "execution_count": 28,
   "metadata": {},
   "outputs": [
    {
     "name": "stdout",
     "output_type": "stream",
     "text": [
      "Counter({'black': 4, 'yellow': 3, 'white': 2})\n",
      "Counter({'white': 3, 'red': 2, 'black': 2, 'yellow': 2})\n",
      "Counter({'black': 6, 'white': 5, 'yellow': 5, 'red': 2})\n"
     ]
    }
   ],
   "source": [
    "counter_moscow = Counter(cars_moscow)\n",
    "counter_spb = Counter(cars_spb)\n",
    "\n",
    "print(counter_moscow)\n",
    "print(counter_spb)\n",
    "print(counter_moscow + counter_spb)"
   ]
  },
  {
   "cell_type": "code",
   "execution_count": null,
   "metadata": {},
   "outputs": [],
   "source": []
  },
  {
   "cell_type": "code",
   "execution_count": 29,
   "metadata": {},
   "outputs": [
    {
     "name": "stdout",
     "output_type": "stream",
     "text": [
      "[('black', 4), ('yellow', 3), ('white', 2)]\n",
      "[('white', 3), ('red', 2), ('black', 2)]\n",
      "[('black', 6), ('white', 5), ('yellow', 5)]\n"
     ]
    }
   ],
   "source": [
    "counter_moscow_max = Counter(cars_moscow).most_common(3)\n",
    "counter_spb_max = Counter(cars_spb).most_common(3)\n",
    "counter_max = (Counter(cars_spb) + Counter(cars_moscow)).most_common(3)\n",
    "\n",
    "print(counter_moscow_max)\n",
    "print(counter_spb_max)\n",
    "print(counter_max)"
   ]
  }
 ],
 "metadata": {
  "interpreter": {
   "hash": "ac59ebe37160ed0dfa835113d9b8498d9f09ceb179beaac4002f036b9467c963"
  },
  "kernelspec": {
   "display_name": "Python 3.9.10 64-bit",
   "language": "python",
   "name": "python3"
  },
  "language_info": {
   "codemirror_mode": {
    "name": "ipython",
    "version": 3
   },
   "file_extension": ".py",
   "mimetype": "text/x-python",
   "name": "python",
   "nbconvert_exporter": "python",
   "pygments_lexer": "ipython3",
   "version": "3.9.10"
  },
  "orig_nbformat": 4
 },
 "nbformat": 4,
 "nbformat_minor": 2
}
