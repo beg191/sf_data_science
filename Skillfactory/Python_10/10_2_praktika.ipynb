{
 "cells": [
  {
   "cell_type": "code",
   "execution_count": 25,
   "metadata": {},
   "outputs": [],
   "source": [
    "import pandas as pd"
   ]
  },
  {
   "cell_type": "code",
   "execution_count": 26,
   "metadata": {},
   "outputs": [],
   "source": [
    "def create_medications(names, counts):\n",
    "    \"\"\"\n",
    "    Напишите функцию create_mediactions(names, counts), которая  создает Series medications,\n",
    "    индексами которой являются названия лекарств names, а значениями - их количество в поставке counts\n",
    "    \"\"\"\n",
    "    medications = pd.Series(data=counts, index=names)\n",
    "    # display(medications)"
   ]
  },
  {
   "cell_type": "code",
   "execution_count": 27,
   "metadata": {},
   "outputs": [],
   "source": [
    "def get_percent(medications, name):\n",
    "    \"\"\"\n",
    "    А также напишите функцию get_percent(medications, name), которая возвращает долю количества товара\n",
    "    с именем name от общего количества товаров в поставке в процентах.\n",
    "    \"\"\"\n",
    "    "
   ]
  },
  {
   "cell_type": "code",
   "execution_count": 28,
   "metadata": {},
   "outputs": [
    {
     "ename": "TypeError",
     "evalue": "sum() argument after * must be an iterable, not NoneType",
     "output_type": "error",
     "traceback": [
      "\u001b[1;31m---------------------------------------------------------------------------\u001b[0m",
      "\u001b[1;31mTypeError\u001b[0m                                 Traceback (most recent call last)",
      "\u001b[1;32mc:\\Users\\Женя\\IDE\\Skillfactory\\Python_10\\10_2_praktika.ipynb Cell 4'\u001b[0m in \u001b[0;36m<module>\u001b[1;34m\u001b[0m\n\u001b[0;32m      <a href='vscode-notebook-cell:/c%3A/Users/%D0%96%D0%B5%D0%BD%D1%8F/IDE/Skillfactory/Python_10/10_2_praktika.ipynb#ch0000003?line=2'>3</a>\u001b[0m counts\u001b[39m=\u001b[39m[\u001b[39m15\u001b[39m, \u001b[39m18\u001b[39m, \u001b[39m7\u001b[39m]\n\u001b[0;32m      <a href='vscode-notebook-cell:/c%3A/Users/%D0%96%D0%B5%D0%BD%D1%8F/IDE/Skillfactory/Python_10/10_2_praktika.ipynb#ch0000003?line=3'>4</a>\u001b[0m medications \u001b[39m=\u001b[39m create_medications(names, counts)\n\u001b[1;32m----> <a href='vscode-notebook-cell:/c%3A/Users/%D0%96%D0%B5%D0%BD%D1%8F/IDE/Skillfactory/Python_10/10_2_praktika.ipynb#ch0000003?line=4'>5</a>\u001b[0m \u001b[39mprint\u001b[39m(get_percent(medications, \u001b[39m\"\u001b[39;49m\u001b[39mchlorhexidine\u001b[39;49m\u001b[39m\"\u001b[39;49m))\n",
      "\u001b[1;32mc:\\Users\\Женя\\IDE\\Skillfactory\\Python_10\\10_2_praktika.ipynb Cell 3'\u001b[0m in \u001b[0;36mget_percent\u001b[1;34m(medications, name)\u001b[0m\n\u001b[0;32m      <a href='vscode-notebook-cell:/c%3A/Users/%D0%96%D0%B5%D0%BD%D1%8F/IDE/Skillfactory/Python_10/10_2_praktika.ipynb#ch0000002?line=0'>1</a>\u001b[0m \u001b[39mdef\u001b[39;00m \u001b[39mget_percent\u001b[39m(medications, name):\n\u001b[0;32m      <a href='vscode-notebook-cell:/c%3A/Users/%D0%96%D0%B5%D0%BD%D1%8F/IDE/Skillfactory/Python_10/10_2_praktika.ipynb#ch0000002?line=1'>2</a>\u001b[0m     \u001b[39m\"\"\"\u001b[39;00m\n\u001b[0;32m      <a href='vscode-notebook-cell:/c%3A/Users/%D0%96%D0%B5%D0%BD%D1%8F/IDE/Skillfactory/Python_10/10_2_praktika.ipynb#ch0000002?line=2'>3</a>\u001b[0m \u001b[39m    А также напишите функцию get_percent(medications, name), которая возвращает долю количества товара\u001b[39;00m\n\u001b[0;32m      <a href='vscode-notebook-cell:/c%3A/Users/%D0%96%D0%B5%D0%BD%D1%8F/IDE/Skillfactory/Python_10/10_2_praktika.ipynb#ch0000002?line=3'>4</a>\u001b[0m \u001b[39m    с именем name от общего количества товаров в поставке в процентах.\u001b[39;00m\n\u001b[0;32m      <a href='vscode-notebook-cell:/c%3A/Users/%D0%96%D0%B5%D0%BD%D1%8F/IDE/Skillfactory/Python_10/10_2_praktika.ipynb#ch0000002?line=4'>5</a>\u001b[0m \u001b[39m    \"\"\"\u001b[39;00m\n\u001b[1;32m----> <a href='vscode-notebook-cell:/c%3A/Users/%D0%96%D0%B5%D0%BD%D1%8F/IDE/Skillfactory/Python_10/10_2_praktika.ipynb#ch0000002?line=5'>6</a>\u001b[0m     \u001b[39mprint\u001b[39m(\u001b[39msum\u001b[39;49m(\u001b[39m*\u001b[39;49mmedications))\n",
      "\u001b[1;31mTypeError\u001b[0m: sum() argument after * must be an iterable, not NoneType"
     ]
    }
   ],
   "source": [
    "if __name__ == '__main__':\n",
    "    names=['chlorhexidine', 'cyntomycin', 'afobazol']\n",
    "    counts=[15, 18, 7]\n",
    "    medications = create_medications(names, counts)\n",
    "    print(get_percent(medications, \"chlorhexidine\")) #37.5\n"
   ]
  }
 ],
 "metadata": {
  "interpreter": {
   "hash": "264f92fc4acb374633d6682cd2d1e9710b23038cb99b419bcd373502c5a3db52"
  },
  "kernelspec": {
   "display_name": "Python 3.9.10 64-bit (system)",
   "language": "python",
   "name": "python3"
  },
  "language_info": {
   "codemirror_mode": {
    "name": "ipython",
    "version": 3
   },
   "file_extension": ".py",
   "mimetype": "text/x-python",
   "name": "python",
   "nbconvert_exporter": "python",
   "pygments_lexer": "ipython3",
   "version": "3.9.10"
  },
  "orig_nbformat": 4
 },
 "nbformat": 4,
 "nbformat_minor": 2
}
