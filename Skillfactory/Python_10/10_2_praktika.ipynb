{
 "cells": [
  {
   "cell_type": "code",
   "execution_count": 17,
   "metadata": {},
   "outputs": [],
   "source": [
    "import pandas as pd"
   ]
  },
  {
   "cell_type": "code",
   "execution_count": 18,
   "metadata": {},
   "outputs": [],
   "source": [
    "def create_medications(names, counts):\n",
    "    \"\"\"\n",
    "    Напишите функцию create_mediactions(names, counts), которая  создает Series medications,\n",
    "    индексами которой являются названия лекарств names, а значениями - их количество в поставке counts\n",
    "    \"\"\"\n",
    "    medications = pd.Series(data=counts, index=names)\n",
    "    # display(medications)"
   ]
  },
  {
   "cell_type": "code",
   "execution_count": 19,
   "metadata": {},
   "outputs": [],
   "source": [
    "def get_percent(medications, name):\n",
    "    \"\"\"\n",
    "    А также напишите функцию get_percent(medications, name), которая возвращает долю количества товара\n",
    "    с именем name от общего количества товаров в поставке в процентах.\n",
    "    \"\"\"\n",
    "    "
   ]
  },
  {
   "cell_type": "code",
   "execution_count": 20,
   "metadata": {},
   "outputs": [
    {
     "name": "stdout",
     "output_type": "stream",
     "text": [
      "None\n"
     ]
    }
   ],
   "source": [
    "if __name__ == '__main__':\n",
    "    names=['chlorhexidine', 'cyntomycin', 'afobazol']\n",
    "    counts=[15, 18, 7]\n",
    "    medications = create_medications(names, counts)\n",
    "    print(get_percent(medications, \"chlorhexidine\")) #37.5\n"
   ]
  }
 ],
 "metadata": {
  "interpreter": {
   "hash": "264f92fc4acb374633d6682cd2d1e9710b23038cb99b419bcd373502c5a3db52"
  },
  "kernelspec": {
   "display_name": "Python 3.9.10 64-bit (system)",
   "language": "python",
   "name": "python3"
  },
  "language_info": {
   "codemirror_mode": {
    "name": "ipython",
    "version": 3
   },
   "file_extension": ".py",
   "mimetype": "text/x-python",
   "name": "python",
   "nbconvert_exporter": "python",
   "pygments_lexer": "ipython3",
   "version": "3.9.10"
  },
  "orig_nbformat": 4
 },
 "nbformat": 4,
 "nbformat_minor": 2
}
