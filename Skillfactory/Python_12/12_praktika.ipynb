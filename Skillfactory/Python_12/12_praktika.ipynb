{
 "cells": [
  {
   "cell_type": "code",
   "execution_count": 64,
   "metadata": {},
   "outputs": [],
   "source": [
    "import pandas as pd\n",
    "import os\n"
   ]
  },
  {
   "cell_type": "code",
   "execution_count": 65,
   "metadata": {},
   "outputs": [],
   "source": [
    "\n",
    "def concat_users_files(path):\n",
    "    \"\"\"\n",
    "    Вам необходимо написать функцию concat_user_files(path), параметром которой является path - путь до директории. \n",
    "    Функция должна объединить информацию из предоставленных вам файлов в один DataFrame и вернуть его. \n",
    "    Не забудьте обновить индексы результирующей таблицы после объединения.\n",
    "    Учтите тот момент, что в результате объединения могут возникнуть дубликаты, от которых необходимо будет избавиться. \n",
    "    \"\"\"\n",
    "    list_file = sorted(os.listdir(path))\n",
    "    full_data = None\n",
    "    for file in list_file:\n",
    "        path_file = path + file\n",
    "        if full_data is None:\n",
    "            full_data = pd.read_csv(path_file)\n",
    "        else:\n",
    "            full_data = pd.concat([full_data, pd.read_csv(path_file)], ignore_index=True)\n",
    "    full_data = full_data.drop_duplicates()\n",
    "    return full_data\n",
    "\n"
   ]
  },
  {
   "cell_type": "code",
   "execution_count": 66,
   "metadata": {},
   "outputs": [
    {
     "name": "stdout",
     "output_type": "stream",
     "text": [
      "  user_id                         image_url\n",
      "0   id001  http://example.com/img/id001.png\n",
      "1   id002  http://example.com/img/id002.jpg\n",
      "2   id003  http://example.com/img/id003.bmp\n",
      "3   id004  http://example.com/img/id004.jpg\n",
      "4   id005  http://example.com/img/id005.png\n",
      "5   id006  http://example.com/img/id006.png\n",
      "6   id007  http://example.com/img/id007.png\n",
      "7   id008  http://example.com/img/id008.png\n"
     ]
    }
   ],
   "source": [
    "if __name__ == '__main__':\n",
    "    data = concat_users_files('data/12_6/')\n",
    "    print(data)"
   ]
  }
 ],
 "metadata": {
  "interpreter": {
   "hash": "ac59ebe37160ed0dfa835113d9b8498d9f09ceb179beaac4002f036b9467c963"
  },
  "kernelspec": {
   "display_name": "Python 3.9.10 64-bit",
   "language": "python",
   "name": "python3"
  },
  "language_info": {
   "codemirror_mode": {
    "name": "ipython",
    "version": 3
   },
   "file_extension": ".py",
   "mimetype": "text/x-python",
   "name": "python",
   "nbconvert_exporter": "python",
   "pygments_lexer": "ipython3",
   "version": "3.9.10"
  },
  "orig_nbformat": 4
 },
 "nbformat": 4,
 "nbformat_minor": 2
}
